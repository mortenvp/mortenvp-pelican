{
 "metadata": {
  "name": "",
  "signature": "sha256:6f9fd651800ede98dc4435d884defa153b9c17622fa78c449120d7b12da7a643"
 },
 "nbformat": 3,
 "nbformat_minor": 0,
 "worksheets": [
  {
   "cells": [
    {
     "cell_type": "markdown",
     "metadata": {},
     "source": [
      "# Working with CAIDA traces in Python\n",
      "\n",
      "In a recent project we wanted to evaluate a Network Coding scheme we have been working on using real Internet traffic. To do this we found that the [The Center for Applied Internet Data Analysis (CAIDA)](http://www.caida.org/) provides (anonymized) data traces capturing the traffic on some of the Internet backbone links.\n",
      "\n",
      "There are many types of traces available on CAIDA's homepage and in general it looks like a very nice resource. For our specific project we wanted to look at the following:\n",
      "\n",
      "* The size of each packet in bytes.\n",
      "* A timestamp indicating when the packet was seen on the wire. \n",
      "* IP source and destination information enabeling us to filter and look at individual flows.\n",
      "\n",
      "The different CAIDA datasets can be found on [CAIDA Data page](http://www.caida.org/data/overview/). CAIDA publishes both traffic summary staticstics i.e. which protocols were seen on the wire, how many packets of different sizes where captured in total etc. In addition to this they also publish the actual [pcap](https://en.wikipedia.org/wiki/Pcap) files containing the raw traffic trace including all the information we mention above. We haven't yet figured out exactlyt which data sets on the CAIDA Data page include `pcap` files and which don't. However, the data we will be using here is the currently newest [\"Anonymized Internet Traces 2015\"](http://www.caida.org/data/passive/passive_2015_dataset.xml) which does include a pcap file. We should mention first that to get access to the `pcap` files you first need to request data access, describing what you need the traces for etc (this may take a few days, before you get approved). \n",
      "\n",
      "Note, that the dataset has been anonymized which means that the IP addresses altered. However, the mapping from orginal IP to anonymized IP is one-to-one so it should not affect our ability to inspect individual flows etc. The tool used for the anonymization is [Crypto-PAn](http://www.cc.gatech.edu/computing/Networking/projects/cryptopan/) you can read more about both on the tool's own webpage and the CAIDA webpage. \n",
      "\n",
      "So lets look at how we can work with these files from within Python. There are several Python packages for working with `pcap` traces and it is not clear which one is the best. However, [`pyshark`](https://github.com/KimiNewt/pyshark) looked popular so we went with that one.  It can be installed using <a href=\"https://en.wikipedia.org/wiki/Pip_(package_manager)\">`pip`</a>. \n",
      "\n",
      "```\n",
      "sudo pip install pyshark\n",
      "```\n",
      "\n",
      "Some of the nice places to find information about `pyshark` are:\n",
      "\n",
      "* The [pyshark GitHub page](https://github.com/KimiNewt/pyshark) including the [documentation page](http://kiminewt.github.io/pyshark/). \n",
      "* [thePacketGeek webpage](https://thepacketgeek.com/tag/pyshark).\n",
      "\n",
      "`pyshark` is simply a Python wrapper for `tshark` (wireshark command-line utility). So we also have to make sure `tshark` is installed:\n",
      "\n",
      "```\n",
      "sudo aptitude install tshark\n",
      "```\n",
      "\n",
      "As a first step lets try to disect the first packet:"
     ]
    },
    {
     "cell_type": "code",
     "collapsed": false,
     "input": [
      "import pyshark\n",
      "\n",
      "pcap_file = '/home/mvp/Downloads/equinix-chicago.dirA.20150219-130100.UTC.anon.pcap'\n",
      "\n",
      "cap = pyshark.FileCapture(pcap_file)\n",
      "\n",
      "pkt = cap.next()\n",
      "\n",
      "print(pkt)"
     ],
     "language": "python",
     "metadata": {},
     "outputs": [
      {
       "output_type": "stream",
       "stream": "stdout",
       "text": [
        "Packet (Length: 46)\n",
        "Layer RAW:\n",
        "\tNo link information available\n",
        "Layer IP:\n",
        "\tSource GeoIP: Unknown\n",
        "\t..0. .... = More fragments: Not set\n",
        "\tTime to live: 61\n",
        "\tVersion: 4\n",
        "\t.1.. .... = Don't fragment: Set\n",
        "\tFlags: 0x02 (Don't Fragment)\n",
        "\tDifferentiated Services Field: 0x00 (DSCP 0x00: Default; ECN: 0x00: Not-ECT (Not ECN-Capable Transport))\n",
        "\tGood: False\n",
        "\tIdentification: 0x8d42 (36162)\n",
        "\tHeader checksum: 0x2883 [validation disabled]\n",
        "\t.... ..00 = Explicit Congestion Notification: Not-ECT (Not ECN-Capable Transport) (0x00)\n",
        "\tHeader Length: 20 bytes\n",
        "\tDestination: 145.15.59.69 (145.15.59.69)\n",
        "\t0000 00.. = Differentiated Services Codepoint: Default (0x00)\n",
        "\tFragment offset: 0\n",
        "\t0... .... = Reserved bit: Not set\n",
        "\tTotal Length: 40\n",
        "\tSource: 100.206.86.232 (100.206.86.232)\n",
        "\tBad: False\n",
        "\tProtocol: TCP (6)\n",
        "\tDestination GeoIP: Unknown\n",
        "Layer TCP:\n",
        "\tBad Checksum: False\n",
        "\t.... ..0. .... = Urgent: Not set\n",
        "\tAcknowledgment number: 1    (relative ack number)\n",
        "\tStream index: 0\n",
        "\tSequence number: 1    (relative sequence number)\n",
        "\tTCP Segment Len: 0\n",
        "\t000. .... .... = Reserved: Not set\n",
        "\tHeader Length: 20 bytes\n",
        "\tDestination Port: 52492 (52492)\n",
        "\t.... .... 0... = Push: Not set\n",
        "\tCalculated window size: 1728\n",
        "\t...0 .... .... = Nonce: Not set\n",
        "\t.... ...1 .... = Acknowledgment: Set\n",
        "\tWindow size scaling factor: -1 (unknown)\n",
        "\tGood Checksum: False\n",
        "\t.... .... ...0 = Fin: Not set\n",
        "\tWindow size value: 1728\n",
        "\t.... 0000 0001 0000 = Flags: 0x010 (ACK)\n",
        "\t.... .0.. .... = ECN-Echo: Not set\n",
        "\tSource Port: 80 (80)\n",
        "\tChecksum: 0x92ae [validation disabled]\n",
        "\tUrgent pointer: 0\n",
        "\t.... .... ..0. = Syn: Not set\n",
        "\t.... 0... .... = Congestion Window Reduced (CWR): Not set\n",
        "\t.... .... .0.. = Reset: Not set\n",
        "\n"
       ]
      }
     ],
     "prompt_number": 2
    },
    {
     "cell_type": "markdown",
     "metadata": {},
     "source": [
      "`pyshark` nicely prints the packets content for us. Understanding exactly where and how the information can be accesssed can be a bit tricky in the beginning. Some of the infomration e.g. packet length and capture time stamp are attributes of the the `Packet` class ([link](https://github.com/KimiNewt/pyshark/blob/master/src/pyshark/packet/packet.py))."
     ]
    },
    {
     "cell_type": "code",
     "collapsed": false,
     "input": [
      "print(\"Packet length {}\".format(pkt.length))\n",
      "print(\"Packet sniff time {}\".format(pkt.sniff_time))"
     ],
     "language": "python",
     "metadata": {},
     "outputs": [
      {
       "output_type": "stream",
       "stream": "stdout",
       "text": [
        "Packet length 46\n",
        "Packet sniff time 2015-02-19 14:01:00\n"
       ]
      }
     ],
     "prompt_number": 15
    },
    {
     "cell_type": "markdown",
     "metadata": {},
     "source": [
      "The different protocols contained within the packet are divided into layers (as also indicated output from the `print(pkt)`). And in the `pyshark` documentation it is recommended that you can use the `dir(packet.mylayer)` to see the different attributes of a layer. Lets first figure out which layers are in the packet, again to do this required a bit of digging in the `pyshark` source code for the `Packet` class ([link](https://github.com/KimiNewt/pyshark/blob/master/src/pyshark/packet/packet.py)). Turns out the layers of a packet are conveniently accessed as follows:"
     ]
    },
    {
     "cell_type": "code",
     "collapsed": false,
     "input": [
      "for layer in pkt.layers:\n",
      "    print(layer.layer_name)"
     ],
     "language": "python",
     "metadata": {},
     "outputs": [
      {
       "output_type": "stream",
       "stream": "stdout",
       "text": [
        "raw\n",
        "ip\n",
        "tcp\n"
       ]
      }
     ],
     "prompt_number": 11
    },
    {
     "cell_type": "markdown",
     "metadata": {},
     "source": [
      "Now lets try the `dir(pkt.ip)` to see if we can figure out the source and destination IP:"
     ]
    },
    {
     "cell_type": "code",
     "collapsed": false,
     "input": [
      "dir(pkt.ip)"
     ],
     "language": "python",
     "metadata": {},
     "outputs": [
      {
       "metadata": {},
       "output_type": "pyout",
       "prompt_number": 12,
       "text": [
        "['',\n",
        " 'DATA_LAYER',\n",
        " '__class__',\n",
        " '__delattr__',\n",
        " '__dict__',\n",
        " '__dir__',\n",
        " '__doc__',\n",
        " '__format__',\n",
        " '__getattr__',\n",
        " '__getattribute__',\n",
        " '__getstate__',\n",
        " '__hash__',\n",
        " '__init__',\n",
        " '__module__',\n",
        " '__new__',\n",
        " '__reduce__',\n",
        " '__reduce_ex__',\n",
        " '__repr__',\n",
        " '__setattr__',\n",
        " '__setstate__',\n",
        " '__sizeof__',\n",
        " '__str__',\n",
        " '__subclasshook__',\n",
        " '__weakref__',\n",
        " '_all_fields',\n",
        " '_field_prefix',\n",
        " '_get_all_field_lines',\n",
        " '_get_all_fields_with_alternates',\n",
        " '_layer_name',\n",
        " '_sanitize_field_name',\n",
        " 'addr',\n",
        " 'checksum',\n",
        " 'checksum_bad',\n",
        " 'checksum_good',\n",
        " 'dsfield',\n",
        " 'dsfield_dscp',\n",
        " 'dsfield_ecn',\n",
        " 'dst',\n",
        " 'dst_host',\n",
        " 'field_names',\n",
        " 'flags',\n",
        " 'flags_df',\n",
        " 'flags_mf',\n",
        " 'flags_rb',\n",
        " 'frag_offset',\n",
        " 'get_field',\n",
        " 'get_field_by_showname',\n",
        " 'get_field_value',\n",
        " 'hdr_len',\n",
        " 'host',\n",
        " 'id',\n",
        " 'layer_name',\n",
        " 'len',\n",
        " 'pretty_print',\n",
        " 'proto',\n",
        " 'raw_mode',\n",
        " 'src',\n",
        " 'src_host',\n",
        " 'ttl',\n",
        " 'version']"
       ]
      }
     ],
     "prompt_number": 12
    },
    {
     "cell_type": "code",
     "collapsed": false,
     "input": [
      "print(\"Source {}\".format(pkt.ip.src))\n",
      "print(\"Destination {}\".format(pkt.ip.dst))"
     ],
     "language": "python",
     "metadata": {},
     "outputs": [
      {
       "output_type": "stream",
       "stream": "stdout",
       "text": [
        "Source 100.206.86.232\n",
        "Destination 145.15.59.69\n"
       ]
      }
     ],
     "prompt_number": 13
    },
    {
     "cell_type": "markdown",
     "metadata": {},
     "source": [
      "We now know how to access the information we wanted, so we just need to write some scripts to parse the entire trace. However one of the things we noticed when starting to work with the traces is that they are quite large :). As an example lets count how many packets we have in the trace: "
     ]
    },
    {
     "cell_type": "code",
     "collapsed": false,
     "input": [
      "# We try to make it as light-weight as possible by \n",
      "# setting keep_packets false (which tells pyshark not \n",
      "# cache packet as it iterates) and only_summaries to\n",
      "# True which generates less data (I assume)\n",
      "cap = pyshark.FileCapture(pcap_file, keep_packets=False, only_summaries=True)\n",
      "\n",
      "count = 0\n",
      "%time for pkt in cap: count += 1\n",
      "    \n",
      "print('Packets in trace {}'.format(count))"
     ],
     "language": "python",
     "metadata": {},
     "outputs": [
      {
       "output_type": "stream",
       "stream": "stdout",
       "text": [
        "CPU times: user 47min 52s, sys: 13.7 s, total: 48min 5s\n",
        "Wall time: 48min 47s\n",
        "Packets in trace 19459512\n"
       ]
      }
     ],
     "prompt_number": 17
    },
    {
     "cell_type": "markdown",
     "metadata": {},
     "source": [
      "So there are approximately 19.5 million packets in the capture. Just counting this number took 48 minutes (on my laptop Intel i7 CPU). So as a next step we probably need to think about how we can speed up this process e.g. using more cores or more machines. According to [this answer](http://serverfault.com/a/131891) it is pretty simple to split the `pcap` file into a bunch of smaller files, which would allow us to process the smaller files in parallell and then aggregate the results.\n"
     ]
    }
   ],
   "metadata": {}
  }
 ]
}